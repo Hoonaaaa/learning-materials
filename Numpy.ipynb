{
 "cells": [
  {
   "cell_type": "markdown",
   "id": "2f96f463-60d8-4f24-a7d0-5413a14f5d71",
   "metadata": {},
   "source": [
    "1. Numpy: type, dtype, shape, dimension, size"
   ]
  },
  {
   "cell_type": "code",
   "execution_count": 1,
   "id": "7fcf41f8-de7f-401d-96ef-a5b47fbffea4",
   "metadata": {},
   "outputs": [
    {
     "name": "stdout",
     "output_type": "stream",
     "text": [
      "[ 7  8  9 10 11]\n",
      "object type: <class 'numpy.ndarray'>\n",
      "  data type: int32\n",
      "      shape: (5,)\n",
      "  demension: 1\n",
      " array size: 5\n",
      "(1, 5)\n",
      "[[ 7  8  9 10 11]]\n"
     ]
    }
   ],
   "source": [
    "# Numpy는 항상 별도의 라이브러리로 존재(import 필요)\n",
    "# Numpy는 배열에서 하나의 데이터 타입만 가질 수 있다.\n",
    "\n",
    "import numpy as np\n",
    "# as np(임의)는 불러올 라이브러리의 별명을 할당하는 것\n",
    "a = np.array([7, 8, 9, 10, 11])\n",
    "# array에서는 모든 요소가 같은 크기의 공간을 차지한다. 구분은 공백으로.\n",
    "print(f'{a}\\n{\"object type:\":>12} {type(a)}\\n{\"data type:\":>12} {a.dtype}\\n{\"shape:\":>12} \\\n",
    "{a.shape}\\n{\"demension:\":>12} {a.ndim}\\n{\"array size:\":>12} {a.size}')\n",
    "a1 = np.array([a]); print(a1.shape); print(a1)"
   ]
  },
  {
   "cell_type": "code",
   "execution_count": 12,
   "id": "0056b983-41f4-488e-b844-f8b93c36b375",
   "metadata": {},
   "outputs": [
    {
     "name": "stdout",
     "output_type": "stream",
     "text": [
      "[[ 1.   2.   3.   4.   5. ]\n",
      " [ 8.   9.  10.  11.  12.2]]\n",
      "object type: <class 'numpy.ndarray'>\n",
      "  data type: float64\n",
      "      shape: (2, 5)\n",
      "  dimension: 2\n",
      " array size: 10\n"
     ]
    }
   ],
   "source": [
    "b = np.array([[1.0, 2, 3, 4, 5], [8, 9, 10, 11, 12.2]])\n",
    "# 12.2(float type)때문에 모든 int가 float로 통일\n",
    "print(f'{b}\\n{\"object type:\":>12} {type(b)}\\n{\"data type:\":>12} {b.dtype}\\n{\"shape:\":>12} \\\n",
    "{b.shape}\\n{\"dimension:\":>12} {b.ndim}\\n{\"array size:\":>12} {b.size}')"
   ]
  },
  {
   "cell_type": "code",
   "execution_count": 4,
   "id": "ef94e1c4-2efe-4353-a506-923a67b61aec",
   "metadata": {},
   "outputs": [
    {
     "name": "stdout",
     "output_type": "stream",
     "text": [
      "[[[ 1  2  3  4  5]\n",
      "  [ 8  9 10 11 12]]\n",
      "\n",
      " [[ 4  5  6  7  8]\n",
      "  [10 11 12 13 14]]]\n",
      "object type: <class 'numpy.ndarray'>\n",
      "  data type: int32\n",
      "      shape: (2, 2, 5)\n",
      "  dimension: 3\n",
      " array size: 20\n"
     ]
    }
   ],
   "source": [
    "c = np.array([[[1,2,3,4,5], [8,9,10,11,12]], [[4,5,6,7,8], [10,11,12,13,14]]])\n",
    "print(f'{c}\\n{\"object type:\":>12} {type(c)}\\n{\"data type:\":>12} {c.dtype}\\n{\"shape:\":>12} \\\n",
    "{c.shape}\\n{\"dimension:\":>12} {c.ndim}\\n{\"array size:\":>12} {c.size}')"
   ]
  },
  {
   "cell_type": "code",
   "execution_count": 17,
   "id": "acf0076f-cb02-4f39-bea7-b1eae3b37f90",
   "metadata": {},
   "outputs": [
    {
     "name": "stdout",
     "output_type": "stream",
     "text": [
      "[[[ 1  2  3  4  5]\n",
      "  [ 8  9 10 11 12]]]\n",
      "object type: <class 'numpy.ndarray'>\n",
      "  data type: int32\n",
      "      shape: (1, 2, 5)\n",
      "  dimension: 3\n",
      " array size: 10\n"
     ]
    }
   ],
   "source": [
    "ac1 = np.array([[[1,2,3,4,5],[8,9,10,11,12]]])\n",
    "print(f'{ac1}\\n{\"object type:\":>12} {type(ac1)}\\n{\"data type:\":>12} {ac1.dtype}\\n{\"shape:\":>12} \\\n",
    "{ac1.shape}\\n{\"dimension:\":>12} {ac1.ndim}\\n{\"array size:\":>12} {ac1.size}')"
   ]
  },
  {
   "cell_type": "markdown",
   "id": "1b63b75c-7c55-428f-8882-02dca365f03e",
   "metadata": {},
   "source": [
    "2. Numpy : special arrays and indexing"
   ]
  },
  {
   "cell_type": "code",
   "execution_count": 19,
   "id": "20ca9acf-5d2a-4720-8fe9-9e6a5f92a4f7",
   "metadata": {},
   "outputs": [
    {
     "name": "stdout",
     "output_type": "stream",
     "text": [
      "['1' '2' '3' '4']\n"
     ]
    }
   ],
   "source": [
    "test = np.array([1, 2, 3, '4'])\n",
    "print(test)"
   ]
  },
  {
   "cell_type": "code",
   "execution_count": 27,
   "id": "bab4f8b6-7f2d-4b3d-a27d-3081e5472214",
   "metadata": {},
   "outputs": [
    {
     "name": "stdout",
     "output_type": "stream",
     "text": [
      "[[1 1 1 1]\n",
      " [1 1 1 1]]\n",
      "[[7 7 7 7 7]\n",
      " [7 7 7 7 7]] 10\n",
      "[[1. 0. 0.]\n",
      " [0. 1. 0.]\n",
      " [0. 0. 1.]]\n"
     ]
    }
   ],
   "source": [
    "a_zeros = np.zeros((2, 3))\n",
    "# zeros는 모든 요소가 0\n",
    "a_ones = np.ones((2, 4), dtype=int)\n",
    "# 모든 요소가 1\n",
    "print(a_ones)\n",
    "a_full = np.full((2, 5), 7)\n",
    "# 요소의 값을 지정할 수 있는 함수(여기서는 7)\n",
    "print(a_full, a_full.size)\n",
    "print(np.eye(3))\n",
    "# n by n matrix를 출력하는 함수"
   ]
  },
  {
   "cell_type": "code",
   "execution_count": 34,
   "id": "9e74a0bc-1761-4a59-8dde-30380994c749",
   "metadata": {},
   "outputs": [
    {
     "name": "stdout",
     "output_type": "stream",
     "text": [
      "[[[0.88230121 0.0227313  0.59118782 0.76294242]\n",
      "  [0.15453222 0.90161925 0.24397019 0.61064594]\n",
      "  [0.60779122 0.63309523 0.711939   0.4995322 ]]\n",
      "\n",
      " [[0.48229471 0.13166628 0.56627998 0.45542176]\n",
      "  [0.18188798 0.9312922  0.20701938 0.31299026]\n",
      "  [0.1430938  0.17551749 0.89807838 0.69110577]]]\n",
      "float64\n",
      "3\n"
     ]
    }
   ],
   "source": [
    "a_ran = np.random.random((2,3,4))\n",
    "# random 라이브러리를 불러온 후 그 안의 random 함수를 사용\n",
    "# 0이상 1미만\n",
    "print(f'{a_ran}\\n{a_ran.dtype}\\n{a_ran.ndim}')"
   ]
  },
  {
   "cell_type": "code",
   "execution_count": 33,
   "id": "606e91f9-d33a-4466-a04b-c9e3ad402c2e",
   "metadata": {},
   "outputs": [
    {
     "name": "stdout",
     "output_type": "stream",
     "text": [
      "[[[ 1  2  3  4  5]\n",
      "  [ 8  9 10 11 12]]\n",
      "\n",
      " [[ 4  5  6  7  8]\n",
      "  [10 11 12 13 14]]]\n",
      "8\n",
      "8\n",
      "5\n",
      "5\n"
     ]
    }
   ],
   "source": [
    "print(c)\n",
    "print(c[1][0][4])\n",
    "print(c[1,0,4])\n",
    "print(c[0][0][4])\n",
    "print(c[0,0,4])\n",
    "# 두 방식 모두 사용 가능"
   ]
  },
  {
   "cell_type": "markdown",
   "id": "852d3461-0c8d-4ea7-a06a-bf49e6889c03",
   "metadata": {},
   "source": [
    "3. Numpy : flatting and making arrays with arrange function"
   ]
  },
  {
   "cell_type": "code",
   "execution_count": 5,
   "id": "139b63f6-2b29-4108-8896-41fc9618b4db",
   "metadata": {},
   "outputs": [
    {
     "name": "stdout",
     "output_type": "stream",
     "text": [
      "[[[ 1  2  3  4  5]\n",
      "  [ 8  9 10 11 12]]\n",
      "\n",
      " [[ 4  5  6  7  8]\n",
      "  [10 11 12 13 14]]]\n",
      "[1, 2, 3, 4, 5, 8, 9, 10, 11, 12, 4, 5, 6, 7, 8, 10, 11, 12, 13, 14]\n",
      "[ 1  2  3  4  5  8  9 10 11 12  4  5  6  7  8 10 11 12 13 14]\n",
      "[ 1  2  3  4  5  8  9 10 11 12  4  5  6  7  8 10 11 12 13 14]\n"
     ]
    }
   ],
   "source": [
    "print(c)\n",
    "l = []\n",
    "for i in c:\n",
    "    for j in i:\n",
    "        for k in j:\n",
    "            l.append(k)\n",
    "print(f'{l}\\n{np.array(l)}')\n",
    "\n",
    "print(np.array(c.flat))\n",
    "# flat은 n차원 array를 일차원 array로 변환(생성자의 역할까지만 수행)"
   ]
  },
  {
   "cell_type": "code",
   "execution_count": 41,
   "id": "e0f58f35-e5af-4502-97e6-cb0414c9f903",
   "metadata": {},
   "outputs": [
    {
     "name": "stdout",
     "output_type": "stream",
     "text": [
      "[ 0  1  2  3  4  5  6  7  8  9 10 11 12 13 14 15 16 17 18 19 20]\n",
      "<class 'numpy.ndarray'>\n",
      "[[[ 0  1  2  3  4  5  6]\n",
      "  [ 7  8  9 10 11 12 13]\n",
      "  [14 15 16 17 18 19 20]]]\n"
     ]
    }
   ],
   "source": [
    "g = np.arange(21)\n",
    "# list의 range와 기능 동일\n",
    "print(f'{g}\\n{type(g)}')\n",
    "print(g.reshape(1,3,7))\n",
    "# 차원 구성을 만드는 함수"
   ]
  },
  {
   "cell_type": "code",
   "execution_count": 43,
   "id": "3b2bd30c-bc8a-4246-923f-5724214054cd",
   "metadata": {},
   "outputs": [
    {
     "name": "stdout",
     "output_type": "stream",
     "text": [
      "[ 5  7  9 11 13 15 17 19]\n",
      "[[ 1  2  3  4  5  6  7  8  9 10]\n",
      " [11 12 13 14 15 16 17 18 19 20]]\n"
     ]
    }
   ],
   "source": [
    "h = np.arange(5, 21, 2)\n",
    "print(h)\n",
    "print(np.arange(1, 21).reshape(2, 10))"
   ]
  },
  {
   "cell_type": "code",
   "execution_count": 45,
   "id": "6f94abd5-5ed6-44c6-b129-be6308bb2cad",
   "metadata": {},
   "outputs": [
    {
     "name": "stdout",
     "output_type": "stream",
     "text": [
      "[0.  0.1 0.2 0.3 0.4 0.5 0.6 0.7 0.8 0.9 1. ]\n",
      "(11,)\n",
      "11\n"
     ]
    }
   ],
   "source": [
    "a_ss = np.linspace(0, 1, 11)\n",
    "# 범위 내애 동일한 간격으로 지정한 요소수의 array 생성(끝 지정 수 포함)\n",
    "print(f'{a_ss}\\n{a_ss.shape}\\n{a_ss.size}')"
   ]
  },
  {
   "cell_type": "markdown",
   "id": "6504424c-4d65-4487-b970-c11dd9a23f3f",
   "metadata": {},
   "source": [
    "4. Numpy : array operation"
   ]
  },
  {
   "cell_type": "code",
   "execution_count": 25,
   "id": "6997378f-3ce7-4d11-82b1-b5938fb1988d",
   "metadata": {},
   "outputs": [
    {
     "name": "stdout",
     "output_type": "stream",
     "text": [
      "(3, 2) (3, 2)\n",
      "[[ 4  6]\n",
      " [ 8 10]\n",
      " [12 14]]\n",
      "[[ 2  4]\n",
      " [ 6  8]\n",
      " [10 12]]\n"
     ]
    }
   ],
   "source": [
    "xa = np.array([[1,2],[3,4],[5,6]])\n",
    "xb = np.array([[3,4],[5,6],[7,8]])\n",
    "print(xa.shape, xb.shape)\n",
    "print(f'{xa+xb}\\n{xa*2}')"
   ]
  },
  {
   "cell_type": "code",
   "execution_count": 6,
   "id": "e5db8af0-d4fe-4c69-838f-05fe9aeadecc",
   "metadata": {},
   "outputs": [
    {
     "name": "stdout",
     "output_type": "stream",
     "text": [
      "[[ 4  6]\n",
      " [ 8 10]\n",
      " [12 14]]\n",
      "[[-2 -2]\n",
      " [-2 -2]\n",
      " [-2 -2]]\n",
      "[[ 3  8]\n",
      " [15 24]\n",
      " [35 48]]\n",
      "[[1.         1.41421356]\n",
      " [1.73205081 2.        ]\n",
      " [2.23606798 2.44948974]]\n"
     ]
    }
   ],
   "source": [
    "print(np.add(xa, xb))\n",
    "print(np.subtract(xa, xb))\n",
    "print(np.multiply(xa, xb))\n",
    "print(np.sqrt(xa))           #"
   ]
  },
  {
   "cell_type": "code",
   "execution_count": 23,
   "id": "f1b24b68-adb4-44c5-9c68-cc5f326e5bb2",
   "metadata": {},
   "outputs": [
    {
     "name": "stdout",
     "output_type": "stream",
     "text": [
      "[[1]\n",
      " [1]] (2, 1) 2 int32\n"
     ]
    }
   ],
   "source": [
    "xc = np.ones((2, 1), int)\n",
    "print(xc, xc.shape, xc.ndim, xc.dtype)"
   ]
  },
  {
   "cell_type": "code",
   "execution_count": 26,
   "id": "890c8ca8-1e49-46df-8f03-b8863d3abbd4",
   "metadata": {},
   "outputs": [
    {
     "name": "stdout",
     "output_type": "stream",
     "text": [
      "[[ 3]\n",
      " [ 7]\n",
      " [11]]\n",
      "[[ 7]\n",
      " [11]\n",
      " [15]]\n"
     ]
    }
   ],
   "source": [
    "print(xa.dot(xc))    # dot은 행렬곱 함수      \n",
    "print(np.dot(xb,xc))"
   ]
  },
  {
   "cell_type": "code",
   "execution_count": 11,
   "id": "2666a914-0193-4790-9a56-1bbf0b2956ce",
   "metadata": {},
   "outputs": [
    {
     "name": "stdout",
     "output_type": "stream",
     "text": [
      "[[1 2]\n",
      " [1 2]]\n",
      "[[ 3  6]\n",
      " [ 7 14]\n",
      " [11 22]]\n",
      "[[ 7 14]\n",
      " [11 22]\n",
      " [15 30]]\n"
     ]
    }
   ],
   "source": [
    "xd = np.array([[1,2],[1,2]]); print(xd)\n",
    "print(np.dot(xa,xd)); print(np.dot(xb,xd))"
   ]
  },
  {
   "cell_type": "code",
   "execution_count": 13,
   "id": "1983a3b0-38dd-44b0-b8e5-bfd6b3234472",
   "metadata": {},
   "outputs": [
    {
     "name": "stdout",
     "output_type": "stream",
     "text": [
      "[[1 3 5]\n",
      " [2 4 6]]\n",
      "[[ 6  7]\n",
      " [ 8  9]\n",
      " [10 11]]\n",
      "[[3 4]\n",
      " [5 6]\n",
      " [7 8]]\n"
     ]
    }
   ],
   "source": [
    "print(xa.T)\n",
    "# T는 x by y를 y by x로 바꾸는 함수(transposing)\n",
    "print(xb+3)\n",
    "print(xb)"
   ]
  },
  {
   "cell_type": "markdown",
   "id": "4c1fe62b-027d-4659-bf2a-02a747cced2f",
   "metadata": {},
   "source": [
    "5. Numpy : broadcasting(차원이 다른 Matrix 연산)"
   ]
  },
  {
   "cell_type": "code",
   "execution_count": 14,
   "id": "21584364-a1a7-44a5-8762-d81a455d1bba",
   "metadata": {},
   "outputs": [
    {
     "name": "stdout",
     "output_type": "stream",
     "text": [
      "[[1 2 3]\n",
      " [4 5 6]\n",
      " [7 8 9]]\n"
     ]
    }
   ],
   "source": [
    "ya = np.arange(1, 10).reshape(3,3); print(ya)"
   ]
  },
  {
   "cell_type": "code",
   "execution_count": 19,
   "id": "515cabd6-8e20-433b-a2ea-ea6dd97ffe56",
   "metadata": {},
   "outputs": [
    {
     "name": "stdout",
     "output_type": "stream",
     "text": [
      "[[1]\n",
      " [2]\n",
      " [3]]\n"
     ]
    }
   ],
   "source": [
    "yv1 = np.array([[1],[2],[3]]);print(yv1)"
   ]
  },
  {
   "cell_type": "code",
   "execution_count": 20,
   "id": "74d718de-9389-4fe2-b7d7-b1a7741f0f9c",
   "metadata": {},
   "outputs": [
    {
     "name": "stdout",
     "output_type": "stream",
     "text": [
      "[[ 2  3  4]\n",
      " [ 6  7  8]\n",
      " [10 11 12]]\n"
     ]
    }
   ],
   "source": [
    "yb = ya + yv1; print(yb)"
   ]
  },
  {
   "cell_type": "code",
   "execution_count": 21,
   "id": "ec30e77c-dd2d-400c-8ced-b317f8d41ae6",
   "metadata": {},
   "outputs": [
    {
     "name": "stdout",
     "output_type": "stream",
     "text": [
      "[[1 2 3]]\n"
     ]
    }
   ],
   "source": [
    "yv2 = np.array([[1,2,3]]); print(yv2)"
   ]
  },
  {
   "cell_type": "code",
   "execution_count": 4,
   "id": "c7da47cd-af63-4ae9-bdea-f2ab8f2a01c8",
   "metadata": {},
   "outputs": [
    {
     "name": "stdout",
     "output_type": "stream",
     "text": [
      "[[ 3  4  5]\n",
      " [ 6  7  8]\n",
      " [ 9 10 11]]\n"
     ]
    }
   ],
   "source": [
    "yc = np.array([[3,4,5],[6,7,8],[9,10,11]])\n",
    "print(yc)"
   ]
  },
  {
   "cell_type": "markdown",
   "id": "48c8df1b-5334-4e0f-b137-2057e9d0ed45",
   "metadata": {},
   "source": [
    "6.Numpy : Summary Statistics"
   ]
  },
  {
   "cell_type": "code",
   "execution_count": 8,
   "id": "fa8db285-3659-4a6a-8a90-e33a449895cf",
   "metadata": {},
   "outputs": [
    {
     "name": "stdout",
     "output_type": "stream",
     "text": [
      "63 7.0 3 11 6.666666666666667 2.581988897471611\n",
      "8 0\n",
      "[6. 7. 8.] [ 4.  7. 10.]\n"
     ]
    }
   ],
   "source": [
    "print(yc.sum(), yc.mean(), yc.min(), yc.max(), yc.var(), yc.std())\n",
    "# 모든 요소 연산\n",
    "print(yc.argmax(), yc.argmin())\n",
    "# 최댓값, 최솟값의 index를 알 수 있다.(차원 구분 X, 요소들을 1차원에서 인식)\n",
    "print(yc.mean(axis = 0), yc.mean(axis =1))\n",
    "# 0은 vertical 계산, 1은 horizontal 계산"
   ]
  },
  {
   "cell_type": "markdown",
   "id": "4df9dfb6-5a40-45ed-bce0-e536e6533951",
   "metadata": {},
   "source": [
    "7. Numpy : Slicing, Flatten, and Stacking"
   ]
  },
  {
   "cell_type": "code",
   "execution_count": 10,
   "id": "4f3893aa-7aca-48cb-b464-2b4b9c73ca7f",
   "metadata": {},
   "outputs": [
    {
     "name": "stdout",
     "output_type": "stream",
     "text": [
      "[[ 0  1  2  3  4  5  6]\n",
      " [ 7  8  9 10 11 12 13]\n",
      " [14 15 16 17 18 19 20]]\n",
      "[0 1 2 3 4 5 6] [0 1 2 3]\n",
      "[[ 0  1  2  3  4  5  6]\n",
      " [ 7  8  9 10 11 12 13]]\n",
      "[[0 1 2]\n",
      " [7 8 9]]\n"
     ]
    }
   ],
   "source": [
    "karray = np.arange(21).reshape(3,7); print(karray)\n",
    "print(karray[0], karray[0,:4])  # row index가 0, column index가 0:4\n",
    "print(karray[:2])\n",
    "print(karray[:2,:3])"
   ]
  },
  {
   "cell_type": "code",
   "execution_count": 13,
   "id": "4c7f1b33-d930-42c6-98d4-02e890f82f08",
   "metadata": {},
   "outputs": [
    {
     "name": "stdout",
     "output_type": "stream",
     "text": [
      "[[ 0  1  2  3  4  5  6]\n",
      " [ 7  8  9 10 11 12 13]\n",
      " [14 15 16 17 18 19 20]]\n",
      "[[ 0  1  2  3  4  5  6]\n",
      " [14 15 16 17 18 19 20]]\n",
      "[[ 1  5]\n",
      " [ 8 12]\n",
      " [15 19]]\n",
      "[[ 1  2  3  4]\n",
      " [ 8  9 10 11]\n",
      " [15 16 17 18]]\n"
     ]
    }
   ],
   "source": [
    "karray = np.arange(21).reshape(3, 7); print(karray)\n",
    "print(karray[[0,2]]) # ,를 활용하면 해당 번호에 해당하는 index만 return\n",
    "print(karray[:,[1,5]])\n",
    "print(karray[:,1:5])"
   ]
  },
  {
   "cell_type": "code",
   "execution_count": 20,
   "id": "1ba4f616-f691-4470-87b4-cf5f069d7631",
   "metadata": {},
   "outputs": [
    {
     "name": "stdout",
     "output_type": "stream",
     "text": [
      "[ 0  1  2  3  4  5  6  7  8  9 10 11 12 13 14 15 16 17 18 19 20] (21,)\n",
      "[ 0  1  2  3  4  5  6  7  8  9 10 11 12 13 14 15 16 17 18 19 20]\n",
      "[[ 0  1  2  3  4  5  6]\n",
      " [ 7  8  9 10 11 12 13]\n",
      " [14 15 16 17 18 19 20]]\n",
      "[[ 0  1  2  3  4  5  6  7  8  9 10 11 12 13 14 15 16 17 18 19 20]] (1, 21)\n",
      "[[ 0  1  2  3  4  5  6]\n",
      " [ 7  8  9 10 11 12 13]\n",
      " [14 15 16 17 18 19 20]] (3, 7)\n"
     ]
    }
   ],
   "source": [
    "fkarray = karray.flatten()\n",
    "print(fkarray, fkarray.shape)        # 1차원화(간편)\n",
    "fkarray1 = np.array(karray.flat)     # np.array가 필요\n",
    "print(fkarray1)\n",
    "rfkarray = karray.reshape(1,21)\n",
    "print(karray)\n",
    "print(rfkarray, rfkarray.shape)\n",
    "rfkarray.resize(3,7)                 # resize 함수는 객체를 변화시킨다\n",
    "print(rfkarray, rfkarray.shape)"
   ]
  },
  {
   "cell_type": "code",
   "execution_count": 22,
   "id": "cf4d3155-35fb-4753-b48c-5d10899ca973",
   "metadata": {},
   "outputs": [
    {
     "name": "stdout",
     "output_type": "stream",
     "text": [
      "[[ 0  1  2  3  4  5]\n",
      " [ 7  8  9 10 11 12]\n",
      " [14 15 16 17 18 19]]\n",
      "[[ 0  1  2]\n",
      " [ 7  8  9]\n",
      " [14 15 16]\n",
      " [ 3  4  5]\n",
      " [10 11 12]\n",
      " [17 18 19]]\n"
     ]
    }
   ],
   "source": [
    "karray1 = karray[:,:3]; karray2 = karray[:, 3:6]\n",
    "karrayh = np.hstack([karray1, karray2]); print(karrayh)  # horizontal\n",
    "karrayv = np.vstack([karray1, karray2]); print(karrayv)  # vertical"
   ]
  },
  {
   "cell_type": "code",
   "execution_count": null,
   "id": "d15cea77-d073-4119-abab-e69950804846",
   "metadata": {},
   "outputs": [],
   "source": []
  }
 ],
 "metadata": {
  "kernelspec": {
   "display_name": "Python 3 (ipykernel)",
   "language": "python",
   "name": "python3"
  },
  "language_info": {
   "codemirror_mode": {
    "name": "ipython",
    "version": 3
   },
   "file_extension": ".py",
   "mimetype": "text/x-python",
   "name": "python",
   "nbconvert_exporter": "python",
   "pygments_lexer": "ipython3",
   "version": "3.9.0"
  }
 },
 "nbformat": 4,
 "nbformat_minor": 5
}
