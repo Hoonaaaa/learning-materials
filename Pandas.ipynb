{
 "cells": [
  {
   "cell_type": "markdown",
   "id": "ba390586-0282-41b2-8ab3-71bd1da2bbec",
   "metadata": {},
   "source": [
    "1. Pandas : Series creation and indexing(여러 형태의 데이터를 다룰 때)"
   ]
  },
  {
   "cell_type": "code",
   "execution_count": 2,
   "id": "be77121e-c8ea-481e-be1c-a67a85083fa7",
   "metadata": {},
   "outputs": [],
   "source": [
    "#패널 데이터 : 시간에 따른 데이터 변화를 나타낸 것"
   ]
  },
  {
   "cell_type": "code",
   "execution_count": 1,
   "id": "a4da5a12-0a38-43c8-b5a4-5c6fa7328cb8",
   "metadata": {},
   "outputs": [],
   "source": [
    "import pandas as pd"
   ]
  },
  {
   "cell_type": "code",
   "execution_count": 4,
   "id": "0ecf00d9-30eb-440c-a0e8-9bfb04e3ec1e",
   "metadata": {},
   "outputs": [
    {
     "name": "stdout",
     "output_type": "stream",
     "text": [
      "0    80\n",
      "1    82\n",
      "2    84\n",
      "3    86\n",
      "4    88\n",
      "5    90\n",
      "6    92\n",
      "7    94\n",
      "8    96\n",
      "9    98\n",
      "dtype: int64\n"
     ]
    }
   ],
   "source": [
    "grades = pd.Series(range(80,100,2))   # Series는 1차원\n",
    "print(grades)"
   ]
  },
  {
   "cell_type": "code",
   "execution_count": 5,
   "id": "c5fbd94c-d1b5-4a44-ba0b-c085bc505fdd",
   "metadata": {},
   "outputs": [
    {
     "name": "stdout",
     "output_type": "stream",
     "text": [
      "count    10.000000\n",
      "mean     89.000000\n",
      "std       6.055301\n",
      "min      80.000000\n",
      "25%      84.500000\n",
      "50%      89.000000\n",
      "75%      93.500000\n",
      "max      98.000000\n",
      "dtype: float64\n",
      "10\n"
     ]
    }
   ],
   "source": [
    "print(grades.describe())\n",
    "print(len(grades))"
   ]
  },
  {
   "cell_type": "code",
   "execution_count": 6,
   "id": "6906bef1-e50d-44ee-82c6-95b5787276c8",
   "metadata": {},
   "outputs": [
    {
     "name": "stdout",
     "output_type": "stream",
     "text": [
      "Kim     175\n",
      "Kwon    184\n",
      "Lee     170\n",
      "dtype: int64\n",
      "184 184 184\n"
     ]
    }
   ],
   "source": [
    "height = pd.Series([175, 184, 170], index = ['Kim', 'Kwon', 'Lee'])\n",
    "print(height)\n",
    "print(height.Kwon, height['Kwon'], height[1])"
   ]
  },
  {
   "cell_type": "code",
   "execution_count": 8,
   "id": "704ddd21-178b-40bc-8863-fc01e9760a98",
   "metadata": {},
   "outputs": [
    {
     "name": "stdout",
     "output_type": "stream",
     "text": [
      "Korea    82\n",
      "Japan    81\n",
      "China    cn\n",
      "dtype: object\n"
     ]
    }
   ],
   "source": [
    "nations = pd.Series({'Korea':82, 'Japan':81, 'China':'cn'})\n",
    "print(nations)\n",
    "#Dictionary를 사용할 경우 Key값이 자동으로 index가 된다."
   ]
  },
  {
   "cell_type": "markdown",
   "id": "000bf0a3-2996-48a5-bb77-494a4f438672",
   "metadata": {},
   "source": [
    "2. Pandas : DataFrames creation and indexing"
   ]
  },
  {
   "cell_type": "code",
   "execution_count": 19,
   "id": "325cb26a-91ff-4b25-9344-81e9dd4dd693",
   "metadata": {},
   "outputs": [
    {
     "name": "stdout",
     "output_type": "stream",
     "text": [
      "   Spring  Summer  Fall  Winter\n",
      "0      10      24    24       8\n",
      "1      14      27    21       0\n",
      "2      18      30    18      -5\n"
     ]
    }
   ],
   "source": [
    "season_temps = pd.DataFrame({'Spring':[10,14,18], 'Summer':[24,27,30],\n",
    "                            'Fall':[24,21,18], 'Winter':[8,0,-5]})\n",
    "print(season_temps)\n",
    "# DataFrame은 2차원, Key값은 column"
   ]
  },
  {
   "cell_type": "code",
   "execution_count": 4,
   "id": "2ce1541d-f742-4e26-9a31-f121af322d59",
   "metadata": {},
   "outputs": [
    {
     "name": "stdout",
     "output_type": "stream",
     "text": [
      "   Kim  Park  Sam  Kwon  Lee\n",
      "0   87   100   94   100   83\n",
      "1   96    87   77    90   65\n",
      "2   70    90   90    95   85\n"
     ]
    }
   ],
   "source": [
    "scores = {'Kim':[87,96,70], 'Park':[100,87,90], 'Sam':[94, 77, 90],\n",
    "         'Kwon':[100,90,95], 'Lee':[83,65,85]}\n",
    "scores_df = pd.DataFrame(scores)\n",
    "print(scores_df)"
   ]
  },
  {
   "cell_type": "code",
   "execution_count": 5,
   "id": "5697a3d8-a23b-42ac-b696-0e88c87bab67",
   "metadata": {},
   "outputs": [
    {
     "name": "stdout",
     "output_type": "stream",
     "text": [
      "         Kim  Park  Sam  Kwon  Lee\n",
      "Math      87   100   94   100   83\n",
      "Econ      96    87   77    90   65\n",
      "Physics   70    90   90    95   85\n",
      "         Kim  Park  Sam  Kwon  Lee\n",
      "Math      87   100   94   100   83\n",
      "Econ      96    87   77    90   65\n",
      "Physics   70    90   90    95   85\n"
     ]
    }
   ],
   "source": [
    "scores_ni = pd.DataFrame(scores, index = ['Math', 'Econ', 'Physics'])\n",
    "print(scores_ni)\n",
    "scores_df.index = ['Math', 'Econ', 'Physics']\n",
    "print(scores_df)"
   ]
  },
  {
   "cell_type": "markdown",
   "id": "994d8422-ac6f-4ef0-80af-362dc4d97d07",
   "metadata": {},
   "source": [
    "3. Pandas : DataFrame slicing"
   ]
  },
  {
   "cell_type": "code",
   "execution_count": 16,
   "id": "ad955257-7636-4e9e-8762-97ea008adb5f",
   "metadata": {},
   "outputs": [
    {
     "name": "stdout",
     "output_type": "stream",
     "text": [
      "Spring    10\n",
      "Summer    24\n",
      "Fall      24\n",
      "Winter     8\n",
      "Name: 0, dtype: int64\n",
      "Spring    10\n",
      "Summer    24\n",
      "Fall      24\n",
      "Winter     8\n",
      "Name: 0, dtype: int64\n"
     ]
    }
   ],
   "source": [
    "print(f'{season_temps.loc[0]}\\n{season_temps.iloc[0]}')"
   ]
  },
  {
   "cell_type": "code",
   "execution_count": 20,
   "id": "4f172798-4e2f-4d2b-beea-c6fec09ad0a6",
   "metadata": {},
   "outputs": [
    {
     "name": "stdout",
     "output_type": "stream",
     "text": [
      "      Kim  Park  Sam  Kwon  Lee\n",
      "Math   87   100   94   100   83\n",
      "Econ   96    87   77    90   65\n",
      "      Kim  Park  Sam\n",
      "Math   87   100   94\n",
      "Econ   96    87   77\n"
     ]
    }
   ],
   "source": [
    "print(f'{scores_ni.loc[\"Math\":\"Econ\"]}\\n{scores_df.iloc[:2,:3]}')\n",
    "# loc는 지정한 index 이름으로, iloc는 index 번호로"
   ]
  },
  {
   "cell_type": "code",
   "execution_count": 22,
   "id": "7923b244-d8df-4deb-80e3-c8d60cb7d242",
   "metadata": {},
   "outputs": [
    {
     "name": "stdout",
     "output_type": "stream",
     "text": [
      "         Kim  Park  Sam  Kwon  Lee\n",
      "Math      87   100   94   100   83\n",
      "Physics   70    90   90    95   85\n",
      "         Kim  Park  Sam\n",
      "Math      87   100   94\n",
      "Physics   70    90   90\n"
     ]
    }
   ],
   "source": [
    "print(f'{scores_ni.loc[[\"Math\",\"Physics\"]]}\\n{scores_df.iloc[[0,2],:3]}')\n",
    "# 특정 index만 추출하고 싶을 땐 [,]를 사용"
   ]
  },
  {
   "cell_type": "code",
   "execution_count": 25,
   "id": "d968d359-8eca-4f9f-8f82-c935de47a457",
   "metadata": {},
   "outputs": [
    {
     "name": "stdout",
     "output_type": "stream",
     "text": [
      "         Kim  Sam\n",
      "Math      87   94\n",
      "Econ      96   77\n",
      "Physics   70   90\n",
      "         Kim  Park  Sam\n",
      "Math      87   100   94\n",
      "Physics   70    90   90\n"
     ]
    }
   ],
   "source": [
    "print(f'{scores_ni.loc[\"Math\":\"Physics\",[\"Kim\",\"Sam\"]]}\\n{scores_df.iloc[[0,2],0:3]}')"
   ]
  },
  {
   "cell_type": "code",
   "execution_count": 26,
   "id": "06ba1b29-426e-47a1-83ca-44caf23aa519",
   "metadata": {},
   "outputs": [
    {
     "name": "stdout",
     "output_type": "stream",
     "text": [
      "         Kim  Sam\n",
      "Math      87   94\n",
      "Physics   70   90\n"
     ]
    }
   ],
   "source": [
    "print(f'{scores_ni.loc[[\"Math\",\"Physics\"], [\"Kim\",\"Sam\"]]}')"
   ]
  },
  {
   "cell_type": "code",
   "execution_count": 6,
   "id": "225aa71a-5b65-4f94-b58b-d476be2c69de",
   "metadata": {},
   "outputs": [
    {
     "name": "stdout",
     "output_type": "stream",
     "text": [
      "         Kim  Park  Sam  Kwon  Lee\n",
      "Math      87   100   94   100   83\n",
      "Econ      96    87   77    90   65\n",
      "Physics   70    90   90    95   85\n",
      "90 90\n"
     ]
    }
   ],
   "source": [
    "print(scores_df)\n",
    "print(scores_df.at['Econ','Kwon'], scores_df.iat[1,3])\n",
    "# 특정 요소 추출(at은 지정한 name으로, iat은 index 번호로)"
   ]
  },
  {
   "cell_type": "markdown",
   "id": "0f64ae14-8d7d-4b6c-a22c-12406b8248e0",
   "metadata": {},
   "source": [
    "4. Pandas : Boolean indexing"
   ]
  },
  {
   "cell_type": "code",
   "execution_count": 32,
   "id": "593dd714-4f31-4f32-b00d-c43f0fbe5c40",
   "metadata": {},
   "outputs": [
    {
     "data": {
      "text/html": [
       "<div>\n",
       "<style scoped>\n",
       "    .dataframe tbody tr th:only-of-type {\n",
       "        vertical-align: middle;\n",
       "    }\n",
       "\n",
       "    .dataframe tbody tr th {\n",
       "        vertical-align: top;\n",
       "    }\n",
       "\n",
       "    .dataframe thead th {\n",
       "        text-align: right;\n",
       "    }\n",
       "</style>\n",
       "<table border=\"1\" class=\"dataframe\">\n",
       "  <thead>\n",
       "    <tr style=\"text-align: right;\">\n",
       "      <th></th>\n",
       "      <th>Kim</th>\n",
       "      <th>Park</th>\n",
       "      <th>Sam</th>\n",
       "      <th>Kwon</th>\n",
       "      <th>Lee</th>\n",
       "    </tr>\n",
       "  </thead>\n",
       "  <tbody>\n",
       "    <tr>\n",
       "      <th>Math</th>\n",
       "      <td>NaN</td>\n",
       "      <td>100.0</td>\n",
       "      <td>94.0</td>\n",
       "      <td>100</td>\n",
       "      <td>NaN</td>\n",
       "    </tr>\n",
       "    <tr>\n",
       "      <th>Econ</th>\n",
       "      <td>96.0</td>\n",
       "      <td>NaN</td>\n",
       "      <td>NaN</td>\n",
       "      <td>90</td>\n",
       "      <td>NaN</td>\n",
       "    </tr>\n",
       "    <tr>\n",
       "      <th>Physics</th>\n",
       "      <td>NaN</td>\n",
       "      <td>90.0</td>\n",
       "      <td>90.0</td>\n",
       "      <td>95</td>\n",
       "      <td>NaN</td>\n",
       "    </tr>\n",
       "  </tbody>\n",
       "</table>\n",
       "</div>"
      ],
      "text/plain": [
       "          Kim   Park   Sam  Kwon  Lee\n",
       "Math      NaN  100.0  94.0   100  NaN\n",
       "Econ     96.0    NaN   NaN    90  NaN\n",
       "Physics   NaN   90.0  90.0    95  NaN"
      ]
     },
     "execution_count": 32,
     "metadata": {},
     "output_type": "execute_result"
    }
   ],
   "source": [
    "scores_df[scores_df >= 90]\n",
    "# NaN(Not a Number)은 해당하지 않는 데이터"
   ]
  },
  {
   "cell_type": "code",
   "execution_count": 33,
   "id": "818c2c38-62a7-4fee-a7ec-3dc3162dec4e",
   "metadata": {},
   "outputs": [
    {
     "data": {
      "text/html": [
       "<div>\n",
       "<style scoped>\n",
       "    .dataframe tbody tr th:only-of-type {\n",
       "        vertical-align: middle;\n",
       "    }\n",
       "\n",
       "    .dataframe tbody tr th {\n",
       "        vertical-align: top;\n",
       "    }\n",
       "\n",
       "    .dataframe thead th {\n",
       "        text-align: right;\n",
       "    }\n",
       "</style>\n",
       "<table border=\"1\" class=\"dataframe\">\n",
       "  <thead>\n",
       "    <tr style=\"text-align: right;\">\n",
       "      <th></th>\n",
       "      <th>Kim</th>\n",
       "      <th>Park</th>\n",
       "      <th>Sam</th>\n",
       "      <th>Kwon</th>\n",
       "      <th>Lee</th>\n",
       "    </tr>\n",
       "  </thead>\n",
       "  <tbody>\n",
       "    <tr>\n",
       "      <th>Math</th>\n",
       "      <td>87.0</td>\n",
       "      <td>NaN</td>\n",
       "      <td>NaN</td>\n",
       "      <td>NaN</td>\n",
       "      <td>83.0</td>\n",
       "    </tr>\n",
       "    <tr>\n",
       "      <th>Econ</th>\n",
       "      <td>NaN</td>\n",
       "      <td>87.0</td>\n",
       "      <td>77.0</td>\n",
       "      <td>NaN</td>\n",
       "      <td>NaN</td>\n",
       "    </tr>\n",
       "    <tr>\n",
       "      <th>Physics</th>\n",
       "      <td>NaN</td>\n",
       "      <td>NaN</td>\n",
       "      <td>NaN</td>\n",
       "      <td>NaN</td>\n",
       "      <td>85.0</td>\n",
       "    </tr>\n",
       "  </tbody>\n",
       "</table>\n",
       "</div>"
      ],
      "text/plain": [
       "          Kim  Park   Sam  Kwon   Lee\n",
       "Math     87.0   NaN   NaN   NaN  83.0\n",
       "Econ      NaN  87.0  77.0   NaN   NaN\n",
       "Physics   NaN   NaN   NaN   NaN  85.0"
      ]
     },
     "execution_count": 33,
     "metadata": {},
     "output_type": "execute_result"
    }
   ],
   "source": [
    "scores_df[(scores_df < 90) & (scores_df > 70)]"
   ]
  },
  {
   "cell_type": "markdown",
   "id": "2cd3e963-bb3a-446e-9f01-0e8dbe5bf6de",
   "metadata": {},
   "source": [
    "5. Pandas : Descriptive statistics(기술통계량)"
   ]
  },
  {
   "cell_type": "code",
   "execution_count": 5,
   "id": "b7795d29-32dd-4ad8-8fdd-d033bee9dcd4",
   "metadata": {},
   "outputs": [
    {
     "name": "stdout",
     "output_type": "stream",
     "text": [
      "          Kim     Park     Sam   Kwon     Lee\n",
      "count   3.000    3.000   3.000    3.0   3.000\n",
      "mean   84.333   92.333  87.000   95.0  77.667\n",
      "std    13.204    6.807   8.888    5.0  11.015\n",
      "min    70.000   87.000  77.000   90.0  65.000\n",
      "25%    78.500   88.500  83.500   92.5  74.000\n",
      "50%    87.000   90.000  90.000   95.0  83.000\n",
      "75%    91.500   95.000  92.000   97.5  84.000\n",
      "max    96.000  100.000  94.000  100.0  85.000\n"
     ]
    }
   ],
   "source": [
    "pd.set_option('display.precision', 3)\n",
    "# 3은 소수점 자리수를 지정하는 것\n",
    "print(scores_df.describe())\n",
    "# column을 기준으로 계산"
   ]
  },
  {
   "cell_type": "code",
   "execution_count": 10,
   "id": "3ec447d3-0896-45ad-8337-f2858a856dfa",
   "metadata": {},
   "outputs": [
    {
     "data": {
      "text/plain": [
       "Kim     84.333333\n",
       "Park    92.333333\n",
       "Sam     87.000000\n",
       "Kwon    95.000000\n",
       "Lee     77.666667\n",
       "dtype: float64"
      ]
     },
     "execution_count": 10,
     "metadata": {},
     "output_type": "execute_result"
    }
   ],
   "source": [
    "scores_df.mean()"
   ]
  },
  {
   "cell_type": "markdown",
   "id": "5b9481ae-dc07-4be3-b280-58b00bfc3b25",
   "metadata": {},
   "source": [
    "6. Pandas : Transposing"
   ]
  },
  {
   "cell_type": "code",
   "execution_count": 17,
   "id": "59b78f70-28d3-4b52-84d3-077403fc635a",
   "metadata": {},
   "outputs": [
    {
     "data": {
      "text/html": [
       "<div>\n",
       "<style scoped>\n",
       "    .dataframe tbody tr th:only-of-type {\n",
       "        vertical-align: middle;\n",
       "    }\n",
       "\n",
       "    .dataframe tbody tr th {\n",
       "        vertical-align: top;\n",
       "    }\n",
       "\n",
       "    .dataframe thead th {\n",
       "        text-align: right;\n",
       "    }\n",
       "</style>\n",
       "<table border=\"1\" class=\"dataframe\">\n",
       "  <thead>\n",
       "    <tr style=\"text-align: right;\">\n",
       "      <th></th>\n",
       "      <th>Math</th>\n",
       "      <th>Econ</th>\n",
       "      <th>Physics</th>\n",
       "    </tr>\n",
       "  </thead>\n",
       "  <tbody>\n",
       "    <tr>\n",
       "      <th>Kim</th>\n",
       "      <td>87</td>\n",
       "      <td>96</td>\n",
       "      <td>70</td>\n",
       "    </tr>\n",
       "    <tr>\n",
       "      <th>Park</th>\n",
       "      <td>100</td>\n",
       "      <td>87</td>\n",
       "      <td>90</td>\n",
       "    </tr>\n",
       "    <tr>\n",
       "      <th>Sam</th>\n",
       "      <td>94</td>\n",
       "      <td>77</td>\n",
       "      <td>90</td>\n",
       "    </tr>\n",
       "    <tr>\n",
       "      <th>Kwon</th>\n",
       "      <td>100</td>\n",
       "      <td>90</td>\n",
       "      <td>95</td>\n",
       "    </tr>\n",
       "    <tr>\n",
       "      <th>Lee</th>\n",
       "      <td>83</td>\n",
       "      <td>65</td>\n",
       "      <td>85</td>\n",
       "    </tr>\n",
       "  </tbody>\n",
       "</table>\n",
       "</div>"
      ],
      "text/plain": [
       "      Math  Econ  Physics\n",
       "Kim     87    96       70\n",
       "Park   100    87       90\n",
       "Sam     94    77       90\n",
       "Kwon   100    90       95\n",
       "Lee     83    65       85"
      ]
     },
     "execution_count": 17,
     "metadata": {},
     "output_type": "execute_result"
    }
   ],
   "source": [
    "scores_df.T"
   ]
  },
  {
   "cell_type": "code",
   "execution_count": 18,
   "id": "309d15f9-f50a-48ab-801e-321245cb8323",
   "metadata": {},
   "outputs": [
    {
     "data": {
      "text/html": [
       "<div>\n",
       "<style scoped>\n",
       "    .dataframe tbody tr th:only-of-type {\n",
       "        vertical-align: middle;\n",
       "    }\n",
       "\n",
       "    .dataframe tbody tr th {\n",
       "        vertical-align: top;\n",
       "    }\n",
       "\n",
       "    .dataframe thead th {\n",
       "        text-align: right;\n",
       "    }\n",
       "</style>\n",
       "<table border=\"1\" class=\"dataframe\">\n",
       "  <thead>\n",
       "    <tr style=\"text-align: right;\">\n",
       "      <th></th>\n",
       "      <th>Math</th>\n",
       "      <th>Econ</th>\n",
       "      <th>Physics</th>\n",
       "    </tr>\n",
       "  </thead>\n",
       "  <tbody>\n",
       "    <tr>\n",
       "      <th>count</th>\n",
       "      <td>5.000000</td>\n",
       "      <td>5.000000</td>\n",
       "      <td>5.000000</td>\n",
       "    </tr>\n",
       "    <tr>\n",
       "      <th>mean</th>\n",
       "      <td>92.800000</td>\n",
       "      <td>83.000000</td>\n",
       "      <td>86.000000</td>\n",
       "    </tr>\n",
       "    <tr>\n",
       "      <th>std</th>\n",
       "      <td>7.661593</td>\n",
       "      <td>12.186058</td>\n",
       "      <td>9.617692</td>\n",
       "    </tr>\n",
       "    <tr>\n",
       "      <th>min</th>\n",
       "      <td>83.000000</td>\n",
       "      <td>65.000000</td>\n",
       "      <td>70.000000</td>\n",
       "    </tr>\n",
       "    <tr>\n",
       "      <th>25%</th>\n",
       "      <td>87.000000</td>\n",
       "      <td>77.000000</td>\n",
       "      <td>85.000000</td>\n",
       "    </tr>\n",
       "    <tr>\n",
       "      <th>50%</th>\n",
       "      <td>94.000000</td>\n",
       "      <td>87.000000</td>\n",
       "      <td>90.000000</td>\n",
       "    </tr>\n",
       "    <tr>\n",
       "      <th>75%</th>\n",
       "      <td>100.000000</td>\n",
       "      <td>90.000000</td>\n",
       "      <td>90.000000</td>\n",
       "    </tr>\n",
       "    <tr>\n",
       "      <th>max</th>\n",
       "      <td>100.000000</td>\n",
       "      <td>96.000000</td>\n",
       "      <td>95.000000</td>\n",
       "    </tr>\n",
       "  </tbody>\n",
       "</table>\n",
       "</div>"
      ],
      "text/plain": [
       "             Math       Econ    Physics\n",
       "count    5.000000   5.000000   5.000000\n",
       "mean    92.800000  83.000000  86.000000\n",
       "std      7.661593  12.186058   9.617692\n",
       "min     83.000000  65.000000  70.000000\n",
       "25%     87.000000  77.000000  85.000000\n",
       "50%     94.000000  87.000000  90.000000\n",
       "75%    100.000000  90.000000  90.000000\n",
       "max    100.000000  96.000000  95.000000"
      ]
     },
     "execution_count": 18,
     "metadata": {},
     "output_type": "execute_result"
    }
   ],
   "source": [
    "scores_df.T.describe()"
   ]
  },
  {
   "cell_type": "markdown",
   "id": "4c92d089-b896-4bb0-9002-02afeca77a43",
   "metadata": {},
   "source": [
    "7. Pandas : Sorting by index and values"
   ]
  },
  {
   "cell_type": "code",
   "execution_count": 20,
   "id": "e8128deb-282b-487b-8021-d0633b306872",
   "metadata": {},
   "outputs": [
    {
     "name": "stdout",
     "output_type": "stream",
     "text": [
      "   Spring  Summer  Fall  Winter\n",
      "0      10      24    24       8\n",
      "1      14      27    21       0\n",
      "2      18      30    18      -5\n"
     ]
    }
   ],
   "source": [
    "print(season_temps)"
   ]
  },
  {
   "cell_type": "code",
   "execution_count": 24,
   "id": "dbfa44ef-444a-49a9-b20a-946dbbffd80a",
   "metadata": {},
   "outputs": [
    {
     "data": {
      "text/html": [
       "<div>\n",
       "<style scoped>\n",
       "    .dataframe tbody tr th:only-of-type {\n",
       "        vertical-align: middle;\n",
       "    }\n",
       "\n",
       "    .dataframe tbody tr th {\n",
       "        vertical-align: top;\n",
       "    }\n",
       "\n",
       "    .dataframe thead th {\n",
       "        text-align: right;\n",
       "    }\n",
       "</style>\n",
       "<table border=\"1\" class=\"dataframe\">\n",
       "  <thead>\n",
       "    <tr style=\"text-align: right;\">\n",
       "      <th></th>\n",
       "      <th>Spring</th>\n",
       "      <th>Summer</th>\n",
       "      <th>Fall</th>\n",
       "      <th>Winter</th>\n",
       "    </tr>\n",
       "  </thead>\n",
       "  <tbody>\n",
       "    <tr>\n",
       "      <th>2</th>\n",
       "      <td>18</td>\n",
       "      <td>30</td>\n",
       "      <td>18</td>\n",
       "      <td>-5</td>\n",
       "    </tr>\n",
       "    <tr>\n",
       "      <th>1</th>\n",
       "      <td>14</td>\n",
       "      <td>27</td>\n",
       "      <td>21</td>\n",
       "      <td>0</td>\n",
       "    </tr>\n",
       "    <tr>\n",
       "      <th>0</th>\n",
       "      <td>10</td>\n",
       "      <td>24</td>\n",
       "      <td>24</td>\n",
       "      <td>8</td>\n",
       "    </tr>\n",
       "  </tbody>\n",
       "</table>\n",
       "</div>"
      ],
      "text/plain": [
       "   Spring  Summer  Fall  Winter\n",
       "2      18      30    18      -5\n",
       "1      14      27    21       0\n",
       "0      10      24    24       8"
      ]
     },
     "execution_count": 24,
     "metadata": {},
     "output_type": "execute_result"
    }
   ],
   "source": [
    "season_temps.sort_index(ascending = False)  # ascending(오름차순) = False는 descending(내림차순)을 의미"
   ]
  },
  {
   "cell_type": "code",
   "execution_count": 29,
   "id": "320b5347-533c-479f-8bbc-263d2af1a2cb",
   "metadata": {},
   "outputs": [
    {
     "data": {
      "text/html": [
       "<div>\n",
       "<style scoped>\n",
       "    .dataframe tbody tr th:only-of-type {\n",
       "        vertical-align: middle;\n",
       "    }\n",
       "\n",
       "    .dataframe tbody tr th {\n",
       "        vertical-align: top;\n",
       "    }\n",
       "\n",
       "    .dataframe thead th {\n",
       "        text-align: right;\n",
       "    }\n",
       "</style>\n",
       "<table border=\"1\" class=\"dataframe\">\n",
       "  <thead>\n",
       "    <tr style=\"text-align: right;\">\n",
       "      <th></th>\n",
       "      <th>Kim</th>\n",
       "      <th>Park</th>\n",
       "      <th>Sam</th>\n",
       "      <th>Kwon</th>\n",
       "      <th>Lee</th>\n",
       "    </tr>\n",
       "  </thead>\n",
       "  <tbody>\n",
       "    <tr>\n",
       "      <th>Econ</th>\n",
       "      <td>96</td>\n",
       "      <td>87</td>\n",
       "      <td>77</td>\n",
       "      <td>90</td>\n",
       "      <td>65</td>\n",
       "    </tr>\n",
       "    <tr>\n",
       "      <th>Math</th>\n",
       "      <td>87</td>\n",
       "      <td>100</td>\n",
       "      <td>94</td>\n",
       "      <td>100</td>\n",
       "      <td>83</td>\n",
       "    </tr>\n",
       "    <tr>\n",
       "      <th>Physics</th>\n",
       "      <td>70</td>\n",
       "      <td>90</td>\n",
       "      <td>90</td>\n",
       "      <td>95</td>\n",
       "      <td>85</td>\n",
       "    </tr>\n",
       "  </tbody>\n",
       "</table>\n",
       "</div>"
      ],
      "text/plain": [
       "         Kim  Park  Sam  Kwon  Lee\n",
       "Econ      96    87   77    90   65\n",
       "Math      87   100   94   100   83\n",
       "Physics   70    90   90    95   85"
      ]
     },
     "execution_count": 29,
     "metadata": {},
     "output_type": "execute_result"
    }
   ],
   "source": [
    "scores_df.sort_index() # 기본은 row를 기준으로 정렬(axis = 0)"
   ]
  },
  {
   "cell_type": "code",
   "execution_count": 27,
   "id": "63d67c3f-47e5-4cc6-bf1e-c60bef103e3b",
   "metadata": {},
   "outputs": [
    {
     "data": {
      "text/html": [
       "<div>\n",
       "<style scoped>\n",
       "    .dataframe tbody tr th:only-of-type {\n",
       "        vertical-align: middle;\n",
       "    }\n",
       "\n",
       "    .dataframe tbody tr th {\n",
       "        vertical-align: top;\n",
       "    }\n",
       "\n",
       "    .dataframe thead th {\n",
       "        text-align: right;\n",
       "    }\n",
       "</style>\n",
       "<table border=\"1\" class=\"dataframe\">\n",
       "  <thead>\n",
       "    <tr style=\"text-align: right;\">\n",
       "      <th></th>\n",
       "      <th>Kim</th>\n",
       "      <th>Kwon</th>\n",
       "      <th>Lee</th>\n",
       "      <th>Park</th>\n",
       "      <th>Sam</th>\n",
       "    </tr>\n",
       "  </thead>\n",
       "  <tbody>\n",
       "    <tr>\n",
       "      <th>Math</th>\n",
       "      <td>87</td>\n",
       "      <td>100</td>\n",
       "      <td>83</td>\n",
       "      <td>100</td>\n",
       "      <td>94</td>\n",
       "    </tr>\n",
       "    <tr>\n",
       "      <th>Econ</th>\n",
       "      <td>96</td>\n",
       "      <td>90</td>\n",
       "      <td>65</td>\n",
       "      <td>87</td>\n",
       "      <td>77</td>\n",
       "    </tr>\n",
       "    <tr>\n",
       "      <th>Physics</th>\n",
       "      <td>70</td>\n",
       "      <td>95</td>\n",
       "      <td>85</td>\n",
       "      <td>90</td>\n",
       "      <td>90</td>\n",
       "    </tr>\n",
       "  </tbody>\n",
       "</table>\n",
       "</div>"
      ],
      "text/plain": [
       "         Kim  Kwon  Lee  Park  Sam\n",
       "Math      87   100   83   100   94\n",
       "Econ      96    90   65    87   77\n",
       "Physics   70    95   85    90   90"
      ]
     },
     "execution_count": 27,
     "metadata": {},
     "output_type": "execute_result"
    }
   ],
   "source": [
    "scores_df.sort_index(axis = 1)  # axis = 1은 정렬 기준을 column으로 변경"
   ]
  },
  {
   "cell_type": "code",
   "execution_count": 28,
   "id": "3afbd4f8-da81-493a-a3c9-db6b52dc6886",
   "metadata": {},
   "outputs": [
    {
     "data": {
      "text/html": [
       "<div>\n",
       "<style scoped>\n",
       "    .dataframe tbody tr th:only-of-type {\n",
       "        vertical-align: middle;\n",
       "    }\n",
       "\n",
       "    .dataframe tbody tr th {\n",
       "        vertical-align: top;\n",
       "    }\n",
       "\n",
       "    .dataframe thead th {\n",
       "        text-align: right;\n",
       "    }\n",
       "</style>\n",
       "<table border=\"1\" class=\"dataframe\">\n",
       "  <thead>\n",
       "    <tr style=\"text-align: right;\">\n",
       "      <th></th>\n",
       "      <th>Kim</th>\n",
       "      <th>Kwon</th>\n",
       "      <th>Park</th>\n",
       "      <th>Sam</th>\n",
       "      <th>Lee</th>\n",
       "    </tr>\n",
       "  </thead>\n",
       "  <tbody>\n",
       "    <tr>\n",
       "      <th>Math</th>\n",
       "      <td>87</td>\n",
       "      <td>100</td>\n",
       "      <td>100</td>\n",
       "      <td>94</td>\n",
       "      <td>83</td>\n",
       "    </tr>\n",
       "    <tr>\n",
       "      <th>Econ</th>\n",
       "      <td>96</td>\n",
       "      <td>90</td>\n",
       "      <td>87</td>\n",
       "      <td>77</td>\n",
       "      <td>65</td>\n",
       "    </tr>\n",
       "    <tr>\n",
       "      <th>Physics</th>\n",
       "      <td>70</td>\n",
       "      <td>95</td>\n",
       "      <td>90</td>\n",
       "      <td>90</td>\n",
       "      <td>85</td>\n",
       "    </tr>\n",
       "  </tbody>\n",
       "</table>\n",
       "</div>"
      ],
      "text/plain": [
       "         Kim  Kwon  Park  Sam  Lee\n",
       "Math      87   100   100   94   83\n",
       "Econ      96    90    87   77   65\n",
       "Physics   70    95    90   90   85"
      ]
     },
     "execution_count": 28,
     "metadata": {},
     "output_type": "execute_result"
    }
   ],
   "source": [
    "scores_df.sort_values(by = 'Econ', axis = 1, ascending = False)"
   ]
  },
  {
   "cell_type": "code",
   "execution_count": 30,
   "id": "fb04ab0e-2fff-4612-b710-9fb0f9c25416",
   "metadata": {},
   "outputs": [
    {
     "data": {
      "text/html": [
       "<div>\n",
       "<style scoped>\n",
       "    .dataframe tbody tr th:only-of-type {\n",
       "        vertical-align: middle;\n",
       "    }\n",
       "\n",
       "    .dataframe tbody tr th {\n",
       "        vertical-align: top;\n",
       "    }\n",
       "\n",
       "    .dataframe thead th {\n",
       "        text-align: right;\n",
       "    }\n",
       "</style>\n",
       "<table border=\"1\" class=\"dataframe\">\n",
       "  <thead>\n",
       "    <tr style=\"text-align: right;\">\n",
       "      <th></th>\n",
       "      <th>Math</th>\n",
       "      <th>Econ</th>\n",
       "      <th>Physics</th>\n",
       "    </tr>\n",
       "  </thead>\n",
       "  <tbody>\n",
       "    <tr>\n",
       "      <th>Kim</th>\n",
       "      <td>87</td>\n",
       "      <td>96</td>\n",
       "      <td>70</td>\n",
       "    </tr>\n",
       "    <tr>\n",
       "      <th>Kwon</th>\n",
       "      <td>100</td>\n",
       "      <td>90</td>\n",
       "      <td>95</td>\n",
       "    </tr>\n",
       "    <tr>\n",
       "      <th>Park</th>\n",
       "      <td>100</td>\n",
       "      <td>87</td>\n",
       "      <td>90</td>\n",
       "    </tr>\n",
       "    <tr>\n",
       "      <th>Sam</th>\n",
       "      <td>94</td>\n",
       "      <td>77</td>\n",
       "      <td>90</td>\n",
       "    </tr>\n",
       "    <tr>\n",
       "      <th>Lee</th>\n",
       "      <td>83</td>\n",
       "      <td>65</td>\n",
       "      <td>85</td>\n",
       "    </tr>\n",
       "  </tbody>\n",
       "</table>\n",
       "</div>"
      ],
      "text/plain": [
       "      Math  Econ  Physics\n",
       "Kim     87    96       70\n",
       "Kwon   100    90       95\n",
       "Park   100    87       90\n",
       "Sam     94    77       90\n",
       "Lee     83    65       85"
      ]
     },
     "execution_count": 30,
     "metadata": {},
     "output_type": "execute_result"
    }
   ],
   "source": [
    "scores_df.T.sort_values(by = 'Econ', ascending = False)"
   ]
  },
  {
   "cell_type": "markdown",
   "id": "e3a3ed45-19ce-4bf0-97de-a7747543b468",
   "metadata": {},
   "source": [
    "8. Pandas : One hot vector(특정 데이터만 '1'로 인식하고 그 외는 '0'으로 인식)"
   ]
  },
  {
   "cell_type": "code",
   "execution_count": 33,
   "id": "15e09206-c5e7-497c-af55-a3f671048e74",
   "metadata": {},
   "outputs": [
    {
     "name": "stdout",
     "output_type": "stream",
     "text": [
      "    Year  Rank   Maker\n",
      "0   1990     0  Hundai\n",
      "1   1991     1   Honda\n",
      "2   1992     2     Kia\n",
      "3   1993     3    Audi\n",
      "4   1994     4    Benz\n",
      "5   1995     5  Hundai\n",
      "6   1996     6    Benz\n",
      "7   1997     7    Audi\n",
      "8   1998     8  Hundai\n",
      "9   1999     9     Kia\n",
      "10  2000    10   Honda\n",
      "11  2001    11     Kia\n",
      "12  2002    12    Audi\n",
      "13  2003    13  Hundai\n",
      "14  2004    14    Benz\n"
     ]
    }
   ],
   "source": [
    "auto_firms = ['Hundai', 'Honda', 'Kia', 'Audi', 'Benz', 'Hundai', 'Benz', 'Audi', 'Hundai', \n",
    "             'Kia', 'Honda', 'Kia', 'Audi', 'Hundai', 'Benz']\n",
    "Year = list(range(1990, 2005)); Rank = list(range(15))\n",
    "auto_df = pd.DataFrame({'Year':Year, 'Rank':Rank, 'Maker':auto_firms})\n",
    "print(auto_df)"
   ]
  },
  {
   "cell_type": "code",
   "execution_count": 36,
   "id": "050f39f6-4b71-4ea3-9728-81920e838919",
   "metadata": {},
   "outputs": [
    {
     "name": "stdout",
     "output_type": "stream",
     "text": [
      "    Audi  Benz  Honda  Hundai  Kia\n",
      "0      0     0      0       1    0\n",
      "1      0     0      1       0    0\n",
      "2      0     0      0       0    1\n",
      "3      1     0      0       0    0\n",
      "4      0     1      0       0    0\n",
      "5      0     0      0       1    0\n",
      "6      0     1      0       0    0\n",
      "7      1     0      0       0    0\n",
      "8      0     0      0       1    0\n",
      "9      0     0      0       0    1\n",
      "10     0     0      1       0    0\n",
      "11     0     0      0       0    1\n",
      "12     1     0      0       0    0\n",
      "13     0     0      0       1    0\n",
      "14     0     1      0       0    0\n"
     ]
    }
   ],
   "source": [
    "am_onehot = pd.get_dummies(auto_df['Maker'])\n",
    "# One hot vector를 만드는 함수(중복을 통합한다.)\n",
    "print(am_onehot)"
   ]
  },
  {
   "cell_type": "code",
   "execution_count": null,
   "id": "17033501-47d6-4766-97ca-6b51c6f6e517",
   "metadata": {},
   "outputs": [],
   "source": []
  }
 ],
 "metadata": {
  "kernelspec": {
   "display_name": "Python 3 (ipykernel)",
   "language": "python",
   "name": "python3"
  },
  "language_info": {
   "codemirror_mode": {
    "name": "ipython",
    "version": 3
   },
   "file_extension": ".py",
   "mimetype": "text/x-python",
   "name": "python",
   "nbconvert_exporter": "python",
   "pygments_lexer": "ipython3",
   "version": "3.9.0"
  }
 },
 "nbformat": 4,
 "nbformat_minor": 5
}
